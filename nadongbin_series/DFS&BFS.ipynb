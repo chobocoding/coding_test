{
  "nbformat": 4,
  "nbformat_minor": 0,
  "metadata": {
    "colab": {
      "name": "DFS&BFS.ipynb",
      "provenance": [],
      "collapsed_sections": []
    },
    "kernelspec": {
      "name": "python3",
      "display_name": "Python 3"
    },
    "language_info": {
      "name": "python"
    }
  },
  "cells": [
    {
      "cell_type": "markdown",
      "metadata": {
        "id": "C9LxpowpdUb1"
      },
      "source": [
        "# 그래프 탐색 알고리즘 : DFS/BFS\n",
        "* 탐색이란 많은 양의 데이터 중에서 원하는 데이터를 찾는 과장\n",
        "* 코딩테스트에서 자주 등장하는 유형"
      ]
    },
    {
      "cell_type": "markdown",
      "metadata": {
        "id": "DDxeIRRtdipQ"
      },
      "source": [
        "# stack 자료 구조\n",
        "\n",
        "* 먼저 들어온 데이터가 나중에 나가는 형식의 자료구조"
      ]
    },
    {
      "cell_type": "code",
      "metadata": {
        "colab": {
          "base_uri": "https://localhost:8080/"
        },
        "id": "_zQ_TtnBdPUt",
        "outputId": "d0311472-1ce8-4997-ba24-602d9573c890"
      },
      "source": [
        "# 스택 구현\n",
        "stack = []\n",
        "# 삽입 5 - 삽입 2 - 삽입 3 - 제거 - 삽입 1 - 제거\n",
        "stack.append(5)\n",
        "stack.append(2)\n",
        "stack.append(3)\n",
        "stack.pop()\n",
        "stack.append(1)\n",
        "stack.pop()\n",
        "print(stack[::-1]) # 최상단 원소부터 출력\n",
        "print(stack) # 최하단 원소부터 줄력\n"
      ],
      "execution_count": null,
      "outputs": [
        {
          "output_type": "stream",
          "name": "stdout",
          "text": [
            "[2, 5]\n",
            "[5, 2]\n"
          ]
        }
      ]
    },
    {
      "cell_type": "markdown",
      "metadata": {
        "id": "vMF1XBihez_u"
      },
      "source": [
        "# 큐 자료 구조\n",
        "* 먼저 들어온 데이터가 먼저 나가는 형식(선입선출)"
      ]
    },
    {
      "cell_type": "code",
      "metadata": {
        "colab": {
          "base_uri": "https://localhost:8080/"
        },
        "id": "f5R_n7k5elPk",
        "outputId": "31c8bdf7-07e7-4932-c13e-104b09a7a36c"
      },
      "source": [
        "# 큐 구현\n",
        "from collections import deque\n",
        "queue = deque()\n",
        "# 삽입 5 - 삽입 2 - 삽입 3 - 삽입 7 - 제거 - 삽입 1 - 삽입 4 - 제거\n",
        "queue.append(5)\n",
        "queue.append(2)\n",
        "queue.append(3)\n",
        "queue.append(7)\n",
        "queue.popleft()\n",
        "queue.append(1)\n",
        "queue.append(4)\n",
        "queue.popleft()\n",
        "\n",
        "print(queue)\n",
        "queue.reverse()\n",
        "print(queue)"
      ],
      "execution_count": null,
      "outputs": [
        {
          "output_type": "stream",
          "name": "stdout",
          "text": [
            "deque([3, 7, 1, 4])\n",
            "deque([4, 1, 7, 3])\n",
            "[3, 7, 1, 4]\n"
          ]
        }
      ]
    },
    {
      "cell_type": "markdown",
      "metadata": {
        "id": "elBVYn9LhXb3"
      },
      "source": [
        "# 재귀 함수 : 자기 자신을 다시 호출하는 함수"
      ]
    },
    {
      "cell_type": "code",
      "metadata": {
        "id": "szf2fY_zgOEW"
      },
      "source": [
        "# https://www.youtube.com/watch?v=7C9RgOcvkvo\n",
        "# 14 : 00"
      ],
      "execution_count": null,
      "outputs": []
    }
  ]
}