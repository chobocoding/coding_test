{
  "nbformat": 4,
  "nbformat_minor": 0,
  "metadata": {
    "colab": {
      "name": "DFS&BFS_fin.ipynb",
      "provenance": [],
      "collapsed_sections": []
    },
    "kernelspec": {
      "name": "python3",
      "display_name": "Python 3"
    },
    "language_info": {
      "name": "python"
    }
  },
  "cells": [
    {
      "cell_type": "markdown",
      "metadata": {
        "id": "C9LxpowpdUb1"
      },
      "source": [
        "# 그래프 탐색 알고리즘 : DFS/BFS\n",
        "* 탐색이란 많은 양의 데이터 중에서 원하는 데이터를 찾는 과장\n",
        "* 코딩테스트에서 자주 등장하는 유형"
      ]
    },
    {
      "cell_type": "markdown",
      "metadata": {
        "id": "DDxeIRRtdipQ"
      },
      "source": [
        "# stack 자료 구조\n",
        "\n",
        "* 먼저 들어온 데이터가 나중에 나가는 형식의 자료구조"
      ]
    },
    {
      "cell_type": "code",
      "metadata": {
        "colab": {
          "base_uri": "https://localhost:8080/"
        },
        "id": "_zQ_TtnBdPUt",
        "outputId": "d0311472-1ce8-4997-ba24-602d9573c890"
      },
      "source": [
        "# 스택 구현\n",
        "stack = []\n",
        "# 삽입 5 - 삽입 2 - 삽입 3 - 제거 - 삽입 1 - 제거\n",
        "stack.append(5)\n",
        "stack.append(2)\n",
        "stack.append(3)\n",
        "stack.pop()\n",
        "stack.append(1)\n",
        "stack.pop()\n",
        "print(stack[::-1]) # 최상단 원소부터 출력\n",
        "print(stack) # 최하단 원소부터 줄력\n"
      ],
      "execution_count": null,
      "outputs": [
        {
          "output_type": "stream",
          "name": "stdout",
          "text": [
            "[2, 5]\n",
            "[5, 2]\n"
          ]
        }
      ]
    },
    {
      "cell_type": "markdown",
      "metadata": {
        "id": "vMF1XBihez_u"
      },
      "source": [
        "# 큐 자료 구조\n",
        "* 먼저 들어온 데이터가 먼저 나가는 형식(선입선출)"
      ]
    },
    {
      "cell_type": "code",
      "metadata": {
        "colab": {
          "base_uri": "https://localhost:8080/"
        },
        "id": "f5R_n7k5elPk",
        "outputId": "31c8bdf7-07e7-4932-c13e-104b09a7a36c"
      },
      "source": [
        "# 큐 구현\n",
        "from collections import deque\n",
        "queue = deque()\n",
        "# 삽입 5 - 삽입 2 - 삽입 3 - 삽입 7 - 제거 - 삽입 1 - 삽입 4 - 제거\n",
        "queue.append(5)\n",
        "queue.append(2)\n",
        "queue.append(3)\n",
        "queue.append(7)\n",
        "queue.popleft()\n",
        "queue.append(1)\n",
        "queue.append(4)\n",
        "queue.popleft()\n",
        "\n",
        "print(queue)\n",
        "queue.reverse()\n",
        "print(queue)"
      ],
      "execution_count": null,
      "outputs": [
        {
          "output_type": "stream",
          "name": "stdout",
          "text": [
            "deque([3, 7, 1, 4])\n",
            "deque([4, 1, 7, 3])\n",
            "[3, 7, 1, 4]\n"
          ]
        }
      ]
    },
    {
      "cell_type": "markdown",
      "metadata": {
        "id": "elBVYn9LhXb3"
      },
      "source": [
        "# 재귀 함수 : 자기 자신을 다시 호출하는 함수\n",
        "\n",
        "### 유의 사항\n",
        "* 간결해질 수 있지만, 반대의 경우도 있음\n",
        "* 모든 재귀 함수는 반복문을 이용하여 구현 가능\n",
        "* 재귀함수가 반복문보다 유리한 경우도 있고 불리한 경우도 있음"
      ]
    },
    {
      "cell_type": "code",
      "metadata": {
        "id": "szf2fY_zgOEW"
      },
      "source": [
        "# def recursive_function():\n",
        "#     print('재귀 함수를 호출합니다.')\n",
        "#     recursive_function()\n",
        "# recursive_function()\n",
        "\n",
        "# 재귀 함수를 문제 풀이에서 사용할 때는 종료 조건을 반드시 명시해야 함"
      ],
      "execution_count": null,
      "outputs": []
    },
    {
      "cell_type": "code",
      "metadata": {
        "colab": {
          "base_uri": "https://localhost:8080/"
        },
        "id": "c4Ut3gAB7ybg",
        "outputId": "a7a37d8a-98f3-47d4-863a-d7338a9ff1af"
      },
      "source": [
        "# 최대공약수 계산 (유클리드 호제법) 예제\n",
        "# 두 자연수 a, b에 대하여 (a > b) a를 b로 나눈 나머지를 r이라 둠\n",
        "# 이 때 a와 b의 최대 공약수는 b와 r의 최대 공약수와 같다\n",
        "\n",
        "def gcd(a, b):\n",
        "    if a % b == 0:\n",
        "        return b\n",
        "    else:\n",
        "        return gcd(b, a%b)\n",
        "print(gcd(192, 162))"
      ],
      "execution_count": 3,
      "outputs": [
        {
          "output_type": "stream",
          "name": "stdout",
          "text": [
            "6\n"
          ]
        }
      ]
    },
    {
      "cell_type": "markdown",
      "metadata": {
        "id": "zyMvHohH_wj7"
      },
      "source": [
        "# DFS(Depth-First Search)\n",
        "- 깊이 우선 탐색이라고 부르며 그래프에서 깊은 부분을 우선적으로 탐색하는 알고리즘\n",
        "- 스택 자료구조(혹은 재귀 함수)를 이용하며 과정은 아래와 같다\n",
        "    1. 탐색 시작 노드를 스택에 삽입하고 방문 처리\n",
        "    2. 스택의 최상단 노드에 방문하지 않은 인접한 노드가 하나라도 있으면 그 노드를 스택에 넣고 방문 처리한다.\n",
        "    방문하지 않은 인접 노드가 없으면 스택에서 최상단 노드를 꺼낸다\n",
        "    3. 더 이상 2번의 과정을 수행할 수 없을 때 까지 반복\n",
        "\n"
      ]
    },
    {
      "cell_type": "code",
      "metadata": {
        "id": "fG6C71g2BZY0"
      },
      "source": [
        "# DFS 예제\n",
        "def dfs(graph, v, visited):\n",
        "    # 현재 노드 방문 처리\n",
        "    visited[v] = True\n",
        "    print(v, end=' ')\n",
        "\n",
        "    for i in graph[v]:\n",
        "        if not visited[i]:\n",
        "            dfs(graph, i, visited)\n"
      ],
      "execution_count": 7,
      "outputs": []
    },
    {
      "cell_type": "code",
      "metadata": {
        "colab": {
          "base_uri": "https://localhost:8080/"
        },
        "id": "ccTS-3Zp_PxQ",
        "outputId": "a27d347b-0b0c-4293-d5e0-8fe722cdc0d2"
      },
      "source": [
        "graph = [\n",
        "         [],\n",
        "         [2, 3, 8],\n",
        "         [1, 7],\n",
        "         [1, 4, 5],\n",
        "         [3, 5],\n",
        "         [3, 4],\n",
        "         [7],\n",
        "         [2, 6, 8],\n",
        "         [1, 7]\n",
        "]\n",
        "\n",
        "visited =[False] * 9\n",
        "dfs(graph, 1, visited)"
      ],
      "execution_count": 8,
      "outputs": [
        {
          "output_type": "stream",
          "name": "stdout",
          "text": [
            "1 2 7 6 8 3 4 5 "
          ]
        }
      ]
    },
    {
      "cell_type": "markdown",
      "metadata": {
        "id": "7XGpsdT7EwQt"
      },
      "source": [
        "# BFS(Breadth-First-Search)\n",
        "* BFS는 너비 우선 탐색이라고도 부르며, 그래프에서 가까운 노드부터 우선적으로 탐색하는 알고리즘\n",
        "* BFS는 큐 자료구조를 이용하며, 구체적인 동작과정은 아래와 같음\n",
        "    1. 탐색 시작 노드를 큐에 삽입하고 방문처리\n",
        "    2. 큐에서 노드를 꺼낸 뒤에 해당 노드의 인접 노드 중에서 방문하지 않는 노드를 모두 큐에 삽입하고 방문 처리\n",
        "    3. 더 이상 2번의 과정을 수행할 수 없을 때까지 반복"
      ]
    },
    {
      "cell_type": "code",
      "metadata": {
        "id": "qUjyRAroF76L"
      },
      "source": [
        "# BFS 예제\n",
        "from collections import deque\n",
        "\n",
        "def bfs(graph, start, visited):\n",
        "    queue = deque([start])\n",
        "\n",
        "    visited[start] = True\n",
        "    while queue:\n",
        "        v = queue.popleft()\n",
        "        print(v , end=' ')\n",
        "        for i in graph[v]:\n",
        "            if not visited[i]:\n",
        "                queue.append(i)\n",
        "                visited[i] = True"
      ],
      "execution_count": 16,
      "outputs": []
    },
    {
      "cell_type": "code",
      "metadata": {
        "colab": {
          "base_uri": "https://localhost:8080/"
        },
        "id": "hp6v3ZoxBy4I",
        "outputId": "98191a19-c1c0-4a12-a899-333e026b7d7e"
      },
      "source": [
        "graph = [\n",
        "         [],\n",
        "         [2, 3, 8],\n",
        "         [1, 7],\n",
        "         [1, 4, 5],\n",
        "         [3, 5],\n",
        "         [3, 4],\n",
        "         [7],\n",
        "         [2, 6, 8],\n",
        "         [1, 7]\n",
        "]\n",
        "\n",
        "visited =[False] * 20\n",
        "\n",
        "bfs(graph, 1, visited)"
      ],
      "execution_count": 24,
      "outputs": [
        {
          "output_type": "stream",
          "name": "stdout",
          "text": [
            "1 2 3 8 7 4 5 6 []\n",
            "[8, 3, 2]\n",
            "[7, 1]\n",
            "[5, 4, 1]\n",
            "[5, 3]\n",
            "[4, 3]\n",
            "[7]\n",
            "[8, 6, 2]\n",
            "[7, 1]\n"
          ]
        }
      ]
    },
    {
      "cell_type": "code",
      "metadata": {
        "id": "vpBxzSVLG5EO"
      },
      "source": [
        "# 문제 : 음료수 얼려 먹기\n",
        "N, M = 4, 5\n",
        "graph = [\n",
        "         [0, 0, 1, 1, 0],\n",
        "         [0, 0, 0, 1, 1],\n",
        "         [1, 1, 1, 1, 1 ],\n",
        "         [0, 0, 0, 0, 0]\n",
        "         ]"
      ],
      "execution_count": 18,
      "outputs": []
    },
    {
      "cell_type": "code",
      "metadata": {
        "colab": {
          "base_uri": "https://localhost:8080/"
        },
        "id": "vcyh8GwBn-B1",
        "outputId": "7738eaed-0a7f-4556-d706-3da5c7221267"
      },
      "source": [
        "# DFS 예제\n",
        "def dfs(x, y):\n",
        "    if x <= -1 or x >=N or y <= -1 or y >= M:\n",
        "        return False\n",
        "    \n",
        "    if graph[x][y]  == 0:\n",
        "\n",
        "        graph[x][y] = 1\n",
        "\n",
        "        dfs(x-1, y)\n",
        "        dfs(x, y-1)\n",
        "        dfs(x+1, y)\n",
        "        dfs(x, y+1)\n",
        "        return True\n",
        "    return False\n",
        "\n",
        "result = 0\n",
        "for i in range(N):\n",
        "    for j in range(M):\n",
        "\n",
        "        if dfs(i, j) == True:\n",
        "            result += 1\n",
        "print(result)"
      ],
      "execution_count": 20,
      "outputs": [
        {
          "output_type": "stream",
          "name": "stdout",
          "text": [
            "3\n"
          ]
        }
      ]
    },
    {
      "cell_type": "code",
      "metadata": {
        "id": "PTy4LIUVuHAE"
      },
      "source": [
        "# 미로 탈출 문제 >> BFS를 사용\n",
        "N, M = 5, 6\n",
        "graph = [\n",
        "         [1, 0, 1, 0, 1, 0],\n",
        "         [1, 1, 1, 1, 1, 1],\n",
        "         [0, 0, 0, 0, 0, 1],\n",
        "         [1, 1, 1, 1, 1, 1],\n",
        "         [1, 1, 1, 1, 1, 1]\n",
        "         ]\n",
        "dx = [-1, 1, 0, 0]\n",
        "dy = [0, 0, -1, 1]"
      ],
      "execution_count": 189,
      "outputs": []
    },
    {
      "cell_type": "code",
      "metadata": {
        "id": "m-SfRfcqqTzA"
      },
      "source": [
        "from collections import deque\n",
        "def bfs(x, y):\n",
        "    queue = deque()\n",
        "    queue.append((x, y))\n",
        "\n",
        "    while queue:\n",
        "        x, y = queue.popleft()\n",
        "\n",
        "        for i in range(4):\n",
        "            nx = x+ dx[i]\n",
        "            ny = y+ dy[i]\n",
        "\n",
        "            if nx < 0 or nx >= N or ny < 0 or ny >= M:\n",
        "                continue\n",
        "\n",
        "            if graph[nx][ny] == 0:\n",
        "                continue\n",
        "\n",
        "            if graph[nx][ny] == 1:\n",
        "                graph[nx][ny] = graph[x][y] + 1\n",
        "                queue.append((nx, ny))\n",
        "            \n",
        "    return graph[N-1][M-1]"
      ],
      "execution_count": 190,
      "outputs": []
    },
    {
      "cell_type": "code",
      "metadata": {
        "colab": {
          "base_uri": "https://localhost:8080/"
        },
        "id": "2jw0lsw58x_I",
        "outputId": "b0d8db28-8f90-4841-f369-9a0716beca5f"
      },
      "source": [
        "print(bfs(0, 0))"
      ],
      "execution_count": 191,
      "outputs": [
        {
          "output_type": "stream",
          "name": "stdout",
          "text": [
            "10\n"
          ]
        }
      ]
    },
    {
      "cell_type": "code",
      "metadata": {
        "id": "6P3fVzEltfPI"
      },
      "source": [
        " while queue:\n",
        "        v = queue.popleft()\n",
        "        print(v , end=' ')\n",
        "        for i in graph[v]:\n",
        "            if not visited[i]:\n",
        "                queue.append(i)\n",
        "                visited[i] = True"
      ],
      "execution_count": null,
      "outputs": []
    }
  ]
}